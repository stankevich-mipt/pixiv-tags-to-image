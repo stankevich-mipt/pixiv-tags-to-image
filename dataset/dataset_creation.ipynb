{
 "cells": [
  {
   "cell_type": "code",
   "execution_count": 1,
   "id": "foster-healing",
   "metadata": {},
   "outputs": [
    {
     "name": "stdout",
     "output_type": "stream",
     "text": [
      "Collecting pixivpy\n",
      "  Using cached https://files.pythonhosted.org/packages/c7/6f/3054e4e2a544095de204d4f2bb60bb7d640461f570e1af2f23a469d328cc/PixivPy-3.5.11-py3-none-any.whl\n",
      "Collecting requests>=2.0 (from pixivpy)\n",
      "  Using cached https://files.pythonhosted.org/packages/29/c1/24814557f1d22c56d50280771a17307e6bf87b70727d975fd6b2ce6b014a/requests-2.25.1-py2.py3-none-any.whl\n",
      "Collecting requests-toolbelt>=0.9.1 (from pixivpy)\n",
      "  Using cached https://files.pythonhosted.org/packages/60/ef/7681134338fc097acef8d9b2f8abe0458e4d87559c689a8c306d0957ece5/requests_toolbelt-0.9.1-py2.py3-none-any.whl\n",
      "Collecting cloudscraper<1.2.50,>=1.0 (from pixivpy)\n",
      "  Using cached https://files.pythonhosted.org/packages/83/e4/f1d3872ce822f52f4133cc04960185f64676ca5ec87f05a5350fc0c0a92f/cloudscraper-1.2.48-py2.py3-none-any.whl\n",
      "Collecting chardet<5,>=3.0.2 (from requests>=2.0->pixivpy)\n",
      "  Using cached https://files.pythonhosted.org/packages/19/c7/fa589626997dd07bd87d9269342ccb74b1720384a4d739a1872bd84fbe68/chardet-4.0.0-py2.py3-none-any.whl\n",
      "Collecting certifi>=2017.4.17 (from requests>=2.0->pixivpy)\n",
      "  Using cached https://files.pythonhosted.org/packages/5e/a0/5f06e1e1d463903cf0c0eebeb751791119ed7a4b3737fdc9a77f1cdfb51f/certifi-2020.12.5-py2.py3-none-any.whl\n",
      "Collecting urllib3<1.27,>=1.21.1 (from requests>=2.0->pixivpy)\n",
      "  Downloading https://files.pythonhosted.org/packages/09/c6/d3e3abe5b4f4f16cf0dfc9240ab7ce10c2baa0e268989a4e3ec19e90c84e/urllib3-1.26.4-py2.py3-none-any.whl (153kB)\n",
      "\u001b[K    100% |████████████████████████████████| 153kB 1.1MB/s ta 0:00:01\n",
      "\u001b[?25hCollecting idna<3,>=2.5 (from requests>=2.0->pixivpy)\n",
      "  Using cached https://files.pythonhosted.org/packages/a2/38/928ddce2273eaa564f6f50de919327bf3a00f091b5baba8dfa9460f3a8a8/idna-2.10-py2.py3-none-any.whl\n",
      "Requirement already satisfied: pyparsing>=2.4.7 in /home/andrey/projects/pixiv-tags-to-image/env/lib/python3.6/site-packages (from cloudscraper<1.2.50,>=1.0->pixivpy)\n",
      "Installing collected packages: chardet, certifi, urllib3, idna, requests, requests-toolbelt, cloudscraper, pixivpy\n",
      "Successfully installed certifi-2020.12.5 chardet-4.0.0 cloudscraper-1.2.48 idna-2.10 pixivpy-3.5.11 requests-2.25.1 requests-toolbelt-0.9.1 urllib3-1.26.4\n"
     ]
    }
   ],
   "source": [
    "! pip install pixivpy"
   ]
  },
  {
   "cell_type": "code",
   "execution_count": 1,
   "id": "manufactured-grounds",
   "metadata": {},
   "outputs": [],
   "source": [
    "def get_illusts(date):\n",
    "    illusts = []\n",
    "    json_result = api.illust_ranking('day', date=date)\n",
    "    if json_result is None: return illusts\n",
    "    if json_result.illusts is None: return illusts\n",
    "    illusts.extend(json_result.illusts)\n",
    "    while True:\n",
    "        if json_result.next_url is None: return illusts\n",
    "        next_qs = api.parse_qs(json_result.next_url)\n",
    "        if next_qs is None: return illusts\n",
    "        json_result = api.illust_ranking(**next_qs)\n",
    "        if json_result is None: return illusts\n",
    "        if json_result.illusts is None: return illusts\n",
    "        illusts.extend(json_result.illusts)"
   ]
  },
  {
   "cell_type": "code",
   "execution_count": 2,
   "id": "engaging-retro",
   "metadata": {},
   "outputs": [
    {
     "data": {
      "text/plain": [
       "{'access_token': '_R2WwHdl5oVDWvaPI0bK8aUaziNIyUZun30r-hORDPo',\n",
       " 'expires_in': 3600,\n",
       " 'token_type': 'bearer',\n",
       " 'scope': '',\n",
       " 'refresh_token': 'GwWqT83JBSi4M_mBqs6B6za5cH9xeq0gRlI69zYlfvk',\n",
       " 'user': {'profile_image_urls': {'px_16x16': 'https://s.pximg.net/common/images/no_profile_ss.png',\n",
       "   'px_50x50': 'https://s.pximg.net/common/images/no_profile_s.png',\n",
       "   'px_170x170': 'https://s.pximg.net/common/images/no_profile.png'},\n",
       "  'id': '64763103',\n",
       "  'name': 'eyesssewnshut',\n",
       "  'account': 'user_chrm5557',\n",
       "  'mail_address': 'followdemiurg@gmail.com',\n",
       "  'is_premium': False,\n",
       "  'x_restrict': 1,\n",
       "  'is_mail_authorized': True},\n",
       " 'response': {'access_token': '_R2WwHdl5oVDWvaPI0bK8aUaziNIyUZun30r-hORDPo',\n",
       "  'expires_in': 3600,\n",
       "  'token_type': 'bearer',\n",
       "  'scope': '',\n",
       "  'refresh_token': 'GwWqT83JBSi4M_mBqs6B6za5cH9xeq0gRlI69zYlfvk',\n",
       "  'user': {'profile_image_urls': {'px_16x16': 'https://s.pximg.net/common/images/no_profile_ss.png',\n",
       "    'px_50x50': 'https://s.pximg.net/common/images/no_profile_s.png',\n",
       "    'px_170x170': 'https://s.pximg.net/common/images/no_profile.png'},\n",
       "   'id': '64763103',\n",
       "   'name': 'eyesssewnshut',\n",
       "   'account': 'user_chrm5557',\n",
       "   'mail_address': 'followdemiurg@gmail.com',\n",
       "   'is_premium': False,\n",
       "   'x_restrict': 1,\n",
       "   'is_mail_authorized': True}}}"
      ]
     },
     "execution_count": 2,
     "metadata": {},
     "output_type": "execute_result"
    }
   ],
   "source": [
    "from pixivpy3 import *\n",
    "from datetime import date, timedelta\n",
    "\n",
    "refresh_token = 'GwWqT83JBSi4M_mBqs6B6za5cH9xeq0gRlI69zYlfvk' \n",
    "\n",
    "api = AppPixivAPI()\n",
    "api.auth(refresh_token=refresh_token) # api.login(\"username\", \"password\")   # Not required"
   ]
  },
  {
   "cell_type": "code",
   "execution_count": 3,
   "id": "guided-husband",
   "metadata": {},
   "outputs": [],
   "source": [
    "good_images = [] \n",
    "\n",
    "for i in range(150):\n",
    "    curr_date = str(date.today() - timedelta(3 * i  + 1))\n",
    "    illusts   = get_illusts(curr_date)\n",
    "    for illust in illusts:\n",
    "        if illust.type == 'manga': continue\n",
    "        good_images.append(illust.id)"
   ]
  },
  {
   "cell_type": "code",
   "execution_count": 4,
   "id": "quick-exhaust",
   "metadata": {},
   "outputs": [],
   "source": [
    "good_images = set(good_images)"
   ]
  },
  {
   "cell_type": "code",
   "execution_count": 5,
   "id": "institutional-globe",
   "metadata": {},
   "outputs": [],
   "source": [
    "import pickle\n",
    "\n",
    "with open('good_images.pickle', 'wb') as handle:\n",
    "    pickle.dump(good_images, handle, pickle.HIGHEST_PROTOCOL)"
   ]
  },
  {
   "cell_type": "code",
   "execution_count": 14,
   "id": "endless-elimination",
   "metadata": {},
   "outputs": [],
   "source": [
    "import re\n",
    "\n",
    "def preprocess_tag(tag):\n",
    "    \n",
    "    tag = tag.lower()\n",
    "    tag = re.sub(r'\\s\\d+\\+\\s(bookmarks)', ' ', tag)\n",
    "    tag = tag.strip()\n",
    "    \n",
    "    # TODO: add more preprocessing?\n",
    "    \n",
    "    return tag"
   ]
  },
  {
   "cell_type": "code",
   "execution_count": 17,
   "id": "republican-ordering",
   "metadata": {},
   "outputs": [],
   "source": [
    "with open('good_images.pickle', 'rb') as handle: good_img = pickle.load(handle)"
   ]
  },
  {
   "cell_type": "code",
   "execution_count": 26,
   "id": "numerous-shanghai",
   "metadata": {},
   "outputs": [],
   "source": [
    "popular_tags = []\n",
    "\n",
    "for i in range(150):\n",
    "    curr_date = str(date.today() - timedelta(3 * i  + 1))\n",
    "    illusts   = get_illusts(curr_date)\n",
    "    for illust in illusts:\n",
    "        \n",
    "        if illust.type == 'manga': continue\n",
    "        if not illust.id in good_img: continue\n",
    "            \n",
    "        tags = [preprocess_tag(t['translated_name']) \n",
    "                for t in illust.tags if t['translated_name'] is not None]\n",
    "        tags = list(set(tags))\n",
    "        \n",
    "        popular_tags.extend(tags)\n",
    "        good_img.remove(illust.id)\n",
    "        "
   ]
  },
  {
   "cell_type": "code",
   "execution_count": 27,
   "id": "industrial-rebel",
   "metadata": {},
   "outputs": [],
   "source": [
    "from collections import Counter\n",
    "\n",
    "popular_tags = dict(Counter(popular_tags))\n",
    "popular_tags = {k: v for k, v in popular_tags.items() if v >= 20}\n",
    "popular_tags = {k: v for k, v in sorted(popular_tags.items(), key = lambda x: x[1], reverse=True)}"
   ]
  },
  {
   "cell_type": "code",
   "execution_count": 28,
   "id": "recovered-complement",
   "metadata": {},
   "outputs": [],
   "source": [
    "with open('popular_tags.pickle', 'wb') as handle:\n",
    "    pickle.dump(popular_tags, handle, pickle.HIGHEST_PROTOCOL)"
   ]
  },
  {
   "cell_type": "code",
   "execution_count": 25,
   "id": "million-wichita",
   "metadata": {},
   "outputs": [
    {
     "data": {
      "text/plain": [
       "{'original': 86,\n",
       " 'genshin impact': 38,\n",
       " 'girl': 81,\n",
       " 'horse girl': 29,\n",
       " 'uma musume pretty derby': 45}"
      ]
     },
     "execution_count": 25,
     "metadata": {},
     "output_type": "execute_result"
    }
   ],
   "source": [
    "popular_tags"
   ]
  },
  {
   "cell_type": "code",
   "execution_count": null,
   "id": "immediate-table",
   "metadata": {},
   "outputs": [],
   "source": []
  }
 ],
 "metadata": {
  "kernelspec": {
   "display_name": "Python 3",
   "language": "python",
   "name": "python3"
  },
  "language_info": {
   "codemirror_mode": {
    "name": "ipython",
    "version": 3
   },
   "file_extension": ".py",
   "mimetype": "text/x-python",
   "name": "python",
   "nbconvert_exporter": "python",
   "pygments_lexer": "ipython3",
   "version": "3.6.9"
  }
 },
 "nbformat": 4,
 "nbformat_minor": 5
}
